{
 "cells": [
  {
   "cell_type": "markdown",
   "metadata": {},
   "source": [
    "# Kata 9\n",
    "    Ejercicio 1: Trabajar con argumentos en funciones"
   ]
  },
  {
   "cell_type": "code",
   "execution_count": 15,
   "metadata": {},
   "outputs": [
    {
     "name": "stdout",
     "output_type": "stream",
     "text": [
      "Reporte de combustible\n",
      "    tanque 1: 10\n",
      "    tanque 2: 15\n",
      "    tanque 3: 20\n",
      "    promedio: 15.0\n",
      "    \n",
      "Reporte de combustible\n",
      "    tanque 1: 15\n",
      "    tanque 2: 30\n",
      "    tanque 3: 78\n",
      "    promedio: 41.0\n",
      "    \n"
     ]
    }
   ],
   "source": [
    "def reporte(c1,c2,c3):\n",
    "    return f\"\"\"Reporte de combustible\n",
    "    tanque 1: {c1}\n",
    "    tanque 2: {c2}\n",
    "    tanque 3: {c3}\n",
    "    promedio: {(c1+c2+c3)/3}\n",
    "    \"\"\"\n",
    "def promnedio (c1,c2,c3):\n",
    "    return (c1+c2+c3)/3\n",
    "\n",
    "def reporte_promedio(c1,c2,c3):\n",
    "    return f\"\"\"Reporte de combustible\n",
    "    tanque 1: {c1}\n",
    "    tanque 2: {c2}\n",
    "    tanque 3: {c3}\n",
    "    promedio: {promnedio(c1,c2,c3)}\n",
    "    \"\"\"\n",
    "\n",
    "print(reporte(10,15,20))\n",
    "print(reporte_promedio(15,30,78))"
   ]
  },
  {
   "cell_type": "markdown",
   "metadata": {},
   "source": [
    "    Ejercicio 2: Trabajo con argumentos de palabra clave   "
   ]
  },
  {
   "cell_type": "code",
   "execution_count": 16,
   "metadata": {},
   "outputs": [
    {
     "name": "stdout",
     "output_type": "stream",
     "text": [
      "\n",
      "    Destino Moon\n",
      "    Tiempo74 minutos\n",
      "    Combustible: 500000\n",
      "    main tanque: 300000 litros \n",
      "external tanque: 200000 litros \n",
      "\n"
     ]
    }
   ],
   "source": [
    "\n",
    "def informe(destino, *minutos, **tanques):\n",
    "    reporte = f\"\"\"\n",
    "    Destino {destino}\n",
    "    Tiempo{sum(minutos)} minutos\n",
    "    Combustible: {sum(tanques.values())}\n",
    "    \"\"\"\n",
    "    for tanque, litros in tanques.items():\n",
    "        reporte += f\"{tanque} tanque: {litros} litros \\n\"\n",
    "    return reporte\n",
    "\n",
    "print(informe(\"Moon\", 8, 11, 55, main=300000, external=200000))"
   ]
  }
 ],
 "metadata": {
  "interpreter": {
   "hash": "ac59ebe37160ed0dfa835113d9b8498d9f09ceb179beaac4002f036b9467c963"
  },
  "kernelspec": {
   "display_name": "Python 3.9.6 64-bit",
   "language": "python",
   "name": "python3"
  },
  "language_info": {
   "codemirror_mode": {
    "name": "ipython",
    "version": 3
   },
   "file_extension": ".py",
   "mimetype": "text/x-python",
   "name": "python",
   "nbconvert_exporter": "python",
   "pygments_lexer": "ipython3",
   "version": "3.9.6"
  },
  "orig_nbformat": 4
 },
 "nbformat": 4,
 "nbformat_minor": 2
}
