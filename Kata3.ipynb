{
 "cells": [
  {
   "cell_type": "markdown",
   "metadata": {},
   "source": [
    "# Kata 3\n",
    " \n",
    "Ejercicio - Escribir declaraciones if, else, y elif"
   ]
  },
  {
   "cell_type": "code",
   "execution_count": 4,
   "metadata": {},
   "outputs": [
    {
     "name": "stdout",
     "output_type": "stream",
     "text": [
      "Un asteroide se acerca rapidamente a la tierra, su velocidad es de: 49 KM/s\n"
     ]
    }
   ],
   "source": [
    "velocidad_asteroide = 49\n",
    "if velocidad_asteroide > 25:\n",
    "    print(f\"Un asteroide se acerca rapidamente a la tierra, su velocidad es de: {velocidad_asteroide} KM/s\")\n",
    "else:\n",
    "    print(\"Todo tranquilo\")"
   ]
  },
  {
   "cell_type": "code",
   "execution_count": 5,
   "metadata": {},
   "outputs": [
    {
     "name": "stdout",
     "output_type": "stream",
     "text": [
      "Todo tranquilo\n"
     ]
    }
   ],
   "source": [
    "velocidad_asteroide = 19\n",
    "if velocidad_asteroide >= 20:\n",
    "    print(f\"Se puede ver un asteroide en el cielo\")\n",
    "else:\n",
    "    print(\"Todo tranquilo\")"
   ]
  },
  {
   "cell_type": "markdown",
   "metadata": {},
   "source": [
    "Ejercicio: Uso de operadores and y or"
   ]
  },
  {
   "cell_type": "code",
   "execution_count": 7,
   "metadata": {},
   "outputs": [
    {
     "name": "stdout",
     "output_type": "stream",
     "text": [
      "Se puede ver un asteroide en el cielo\n",
      "Un asteroide se acerca rapidamente a la tierra, su velocidad es de: 52 KM/s\n"
     ]
    }
   ],
   "source": [
    "velocidad_asteroide = 52\n",
    "tamaño_asteoride = 58\n",
    "if tamaño_asteoride>25 and tamaño_asteoride<1000:\n",
    "    if velocidad_asteroide >= 20:\n",
    "         print(f\"Se puede ver un asteroide en el cielo\")\n",
    "         if velocidad_asteroide > 25:\n",
    "               print(f\"Un asteroide se acerca rapidamente a la tierra, su velocidad es de: {velocidad_asteroide} KM/s\")\n",
    "else:\n",
    "    print(\"Todo tranquilo\")\n"
   ]
  }
 ],
 "metadata": {
  "interpreter": {
   "hash": "ac59ebe37160ed0dfa835113d9b8498d9f09ceb179beaac4002f036b9467c963"
  },
  "kernelspec": {
   "display_name": "Python 3.9.6 64-bit",
   "language": "python",
   "name": "python3"
  },
  "language_info": {
   "codemirror_mode": {
    "name": "ipython",
    "version": 3
   },
   "file_extension": ".py",
   "mimetype": "text/x-python",
   "name": "python",
   "nbconvert_exporter": "python",
   "pygments_lexer": "ipython3",
   "version": "3.9.6"
  },
  "orig_nbformat": 4
 },
 "nbformat": 4,
 "nbformat_minor": 2
}
