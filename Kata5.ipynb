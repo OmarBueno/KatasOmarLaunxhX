{
 "cells": [
  {
   "cell_type": "markdown",
   "metadata": {},
   "source": [
    "# Kata 5\n",
    "\n",
    "Ejercicio1 - Utilizar operadores aritméticos"
   ]
  },
  {
   "cell_type": "code",
   "execution_count": 7,
   "metadata": {},
   "outputs": [
    {
     "name": "stdout",
     "output_type": "stream",
     "text": [
      "distancia en km:628949330\n",
      "distancia en millas:390577533.93\n"
     ]
    }
   ],
   "source": [
    "first_planet = 149597870\n",
    "second_planet = 778547200\n",
    "distancia = second_planet - first_planet\n",
    "distancia_millas = distancia * 0.621\n",
    "print(f\"distancia en km:{distancia}\")\n",
    "print(f\"distancia en millas:{distancia_millas}\")\n"
   ]
  },
  {
   "cell_type": "markdown",
   "metadata": {},
   "source": [
    "Ejercicio 2: convierte cadenas en números y usa valores absolutos"
   ]
  },
  {
   "cell_type": "code",
   "execution_count": 8,
   "metadata": {},
   "outputs": [
    {
     "name": "stdout",
     "output_type": "stream",
     "text": [
      "distancia en km:628949330\n",
      "distancia en millas:390577533.93\n"
     ]
    }
   ],
   "source": [
    "first_planet = abs(int(input(\"Primer planeta: \")))\n",
    "second_planet = abs(int(input(\"Segundo planeta: \")))\n",
    "distancia = second_planet - first_planet\n",
    "distancia_millas = distancia * 0.621\n",
    "print(f\"distancia en km:{distancia}\")\n",
    "print(f\"distancia en millas:{distancia_millas}\")"
   ]
  }
 ],
 "metadata": {
  "interpreter": {
   "hash": "ac59ebe37160ed0dfa835113d9b8498d9f09ceb179beaac4002f036b9467c963"
  },
  "kernelspec": {
   "display_name": "Python 3.9.6 64-bit",
   "language": "python",
   "name": "python3"
  },
  "language_info": {
   "codemirror_mode": {
    "name": "ipython",
    "version": 3
   },
   "file_extension": ".py",
   "mimetype": "text/x-python",
   "name": "python",
   "nbconvert_exporter": "python",
   "pygments_lexer": "ipython3",
   "version": "3.9.6"
  },
  "orig_nbformat": 4
 },
 "nbformat": 4,
 "nbformat_minor": 2
}
